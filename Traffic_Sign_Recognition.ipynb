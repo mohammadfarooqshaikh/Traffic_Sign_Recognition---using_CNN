{
 "cells": [
  {
   "cell_type": "code",
   "execution_count": 1,
   "id": "cec92519",
   "metadata": {},
   "outputs": [
    {
     "name": "stdout",
     "output_type": "stream",
     "text": [
      "WARNING:tensorflow:From C:\\Users\\dell\\anaconda3\\Lib\\site-packages\\keras\\src\\losses.py:2976: The name tf.losses.sparse_softmax_cross_entropy is deprecated. Please use tf.compat.v1.losses.sparse_softmax_cross_entropy instead.\n",
      "\n"
     ]
    }
   ],
   "source": [
    "import numpy as np\n",
    "import matplotlib.pyplot as plt\n",
    "from keras.models import Sequential\n",
    "from keras.layers import Dense                       #The Dense layer is a fully connected layer, which is a type of neural network layer where each neuron is connected to every neuron in the next layer.\n",
    "from keras.optimizers import Adam                    #Adam is an optimization algorithm commonly used for training neural networks.\n",
    "from keras.utils import to_categorical              #This function is often used to convert class labels to one-hot encoded vectors.\n",
    "from keras.layers import Dropout, Flatten           #Dropout is a regularization technique that helps prevent overfitting, and Flatten is used to flatten the input data before passing it to the next layer.\n",
    "from keras.layers import Conv2D, MaxPooling2D         #Used for image processing task\n",
    "import cv2                                            \n",
    "from sklearn.model_selection import train_test_split\n",
    "import pickle                                         #used for saving and loading machine learning models.\n",
    "import os\n",
    "import pandas as pd\n",
    "import random\n",
    "from keras.preprocessing.image import ImageDataGenerator            #This class is used for real-time data augmentation during model training, particularly in the context of image data."
   ]
  },
  {
   "cell_type": "code",
   "execution_count": 2,
   "id": "9a515ee2",
   "metadata": {},
   "outputs": [],
   "source": [
    "path = \"Dataset\" \n",
    "labelFile = 'labels.csv' \n",
    "batch_size_val=32 \n",
    "epochs_val=10\n",
    "imageDimesions = (32,32,3)\n",
    "testRatio = 0.2    \n",
    "validationRatio = 0.2 "
   ]
  },
  {
   "cell_type": "code",
   "execution_count": 3,
   "id": "4f1a2b1d",
   "metadata": {},
   "outputs": [
    {
     "name": "stdout",
     "output_type": "stream",
     "text": [
      "Total Classes Detected: 43\n",
      "Importing Classes.....\n",
      "0 1 2 3 4 5 6 7 8 9 10 11 12 13 14 15 16 17 18 19 20 21 22 23 24 25 26 27 28 29 30 31 32 33 34 35 36 37 38 39 40 41 42  \n"
     ]
    }
   ],
   "source": [
    "count = 0\n",
    "images = []\n",
    "classNo = []\n",
    "myList = os.listdir(path)\n",
    "print(\"Total Classes Detected:\",len(myList))\n",
    "noOfClasses=len(myList)\n",
    "print(\"Importing Classes.....\")\n",
    "for x in range (0,len(myList)):\n",
    "    myPicList = os.listdir(path+\"/\"+str(count))\n",
    "    for y in myPicList:\n",
    "        curImg = cv2.imread(path+\"/\"+str(count)+\"/\"+y)\n",
    "        images.append(curImg)\n",
    "        classNo.append(count)\n",
    "    print(count, end =\" \")\n",
    "    count +=1\n",
    "print(\" \")\n",
    "images = np.array(images)\n",
    "classNo = np.array(classNo)"
   ]
  },
  {
   "cell_type": "code",
   "execution_count": 4,
   "id": "d53b194a",
   "metadata": {},
   "outputs": [],
   "source": [
    "X_train, X_test, y_train, y_test = train_test_split(images, classNo, test_size=testRatio)\n",
    "X_train, X_validation, y_train, y_validation = train_test_split(X_train, y_train, test_size=validationRatio)"
   ]
  },
  {
   "cell_type": "code",
   "execution_count": 5,
   "id": "b4707c3c",
   "metadata": {},
   "outputs": [
    {
     "name": "stdout",
     "output_type": "stream",
     "text": [
      "Data Shapes\n",
      "Train(22271, 32, 32, 3) (22271,)\n",
      "Validation(5568, 32, 32, 3) (5568,)\n",
      "Test(6960, 32, 32, 3) (6960,)\n"
     ]
    }
   ],
   "source": [
    "print(\"Data Shapes\")\n",
    "print(\"Train\",end = \"\");print(X_train.shape,y_train.shape)\n",
    "print(\"Validation\",end = \"\");print(X_validation.shape,y_validation.shape)\n",
    "print(\"Test\",end = \"\");print(X_test.shape,y_test.shape)"
   ]
  },
  {
   "cell_type": "code",
   "execution_count": 6,
   "id": "34b8673e",
   "metadata": {},
   "outputs": [
    {
     "name": "stdout",
     "output_type": "stream",
     "text": [
      "data shape  (43, 2) <class 'pandas.core.frame.DataFrame'>\n"
     ]
    }
   ],
   "source": [
    "data=pd.read_csv(labelFile)\n",
    "print(\"data shape \",data.shape,type(data))"
   ]
  },
  {
   "cell_type": "code",
   "execution_count": 7,
   "id": "935db743",
   "metadata": {},
   "outputs": [],
   "source": [
    "num_of_samples = []\n",
    "cols = 5\n",
    "num_classes = noOfClasses"
   ]
  },
  {
   "cell_type": "code",
   "execution_count": 8,
   "id": "bc7cbc30",
   "metadata": {},
   "outputs": [],
   "source": [
    "def grayscale(img):                              #Converts the input image to grayscale \n",
    "    img = cv2.cvtColor(img,cv2.COLOR_BGR2GRAY)\n",
    "    return img\n",
    "def equalize(img):                              #Applies histogram equalization to the input image\n",
    "    img =cv2.equalizeHist(img)             #Histogram equalization enhances the contrast of an image by redistributing the intensity values.\n",
    "    return img\n",
    "def preprocessing(img):\n",
    "    img = grayscale(img)     \n",
    "    img = equalize(img)      \n",
    "    img = img/255             #normalizes the pixel values to be in the range [0, 1] by dividing by 255.\n",
    "    return img"
   ]
  },
  {
   "cell_type": "code",
   "execution_count": 9,
   "id": "34281fcd",
   "metadata": {},
   "outputs": [],
   "source": [
    "X_train=np.array(list(map(preprocessing,X_train)))  \n",
    "X_validation=np.array(list(map(preprocessing,X_validation)))\n",
    "X_test=np.array(list(map(preprocessing,X_test)))"
   ]
  },
  {
   "cell_type": "code",
   "execution_count": 10,
   "id": "c419ed07",
   "metadata": {},
   "outputs": [],
   "source": [
    "#The original shape of each image in X_train is assumed to be (height, width), and it is reshaped to (height, width, 1) to indicate that there is one channel (grayscale).\n",
    "X_train=X_train.reshape(X_train.shape[0],X_train.shape[1],X_train.shape[2],1)\n",
    "X_validation=X_validation.reshape(X_validation.shape[0],X_validation.shape[1],X_validation.shape[2],1)\n",
    "X_test=X_test.reshape(X_test.shape[0],X_test.shape[1],X_test.shape[2],1)"
   ]
  },
  {
   "cell_type": "code",
   "execution_count": 11,
   "id": "653c2e1a",
   "metadata": {},
   "outputs": [],
   "source": [
    "#ImageDataGenerator is used to perform data augmentation on the training dataset (X_train and y_train). \n",
    "#Data augmentation is a technique used to artificially increase the size of the training dataset by applying various transformations to the existing images.\n",
    "dataGen= ImageDataGenerator(width_shift_range=0.1,   \n",
    "                            height_shift_range=0.1,\n",
    "                            zoom_range=0.2,  \n",
    "                            shear_range=0.1,  \n",
    "                            rotation_range=10)  \n",
    "dataGen.fit(X_train)\n",
    "batches= dataGen.flow(X_train,y_train,batch_size=20)\n",
    "X_batch,y_batch = next(batches)"
   ]
  },
  {
   "cell_type": "code",
   "execution_count": 12,
   "id": "69b5e7af",
   "metadata": {},
   "outputs": [],
   "source": [
    "y_train = to_categorical(y_train,noOfClasses)\n",
    "y_validation = to_categorical(y_validation,noOfClasses)\n",
    "y_test = to_categorical(y_test,noOfClasses)"
   ]
  },
  {
   "cell_type": "code",
   "execution_count": 13,
   "id": "9653a8ac",
   "metadata": {},
   "outputs": [
    {
     "name": "stdout",
     "output_type": "stream",
     "text": [
      "WARNING:tensorflow:From C:\\Users\\dell\\anaconda3\\Lib\\site-packages\\keras\\src\\backend.py:873: The name tf.get_default_graph is deprecated. Please use tf.compat.v1.get_default_graph instead.\n",
      "\n",
      "WARNING:tensorflow:From C:\\Users\\dell\\anaconda3\\Lib\\site-packages\\keras\\src\\layers\\pooling\\max_pooling2d.py:161: The name tf.nn.max_pool is deprecated. Please use tf.nn.max_pool2d instead.\n",
      "\n"
     ]
    },
    {
     "name": "stderr",
     "output_type": "stream",
     "text": [
      "WARNING:absl:`lr` is deprecated in Keras optimizer, please use `learning_rate` or use the legacy optimizer, e.g.,tf.keras.optimizers.legacy.Adam.\n"
     ]
    },
    {
     "name": "stdout",
     "output_type": "stream",
     "text": [
      "Model: \"sequential\"\n",
      "_________________________________________________________________\n",
      " Layer (type)                Output Shape              Param #   \n",
      "=================================================================\n",
      " conv2d (Conv2D)             (None, 28, 28, 60)        1560      \n",
      "                                                                 \n",
      " conv2d_1 (Conv2D)           (None, 24, 24, 60)        90060     \n",
      "                                                                 \n",
      " max_pooling2d (MaxPooling2  (None, 12, 12, 60)        0         \n",
      " D)                                                              \n",
      "                                                                 \n",
      " conv2d_2 (Conv2D)           (None, 10, 10, 30)        16230     \n",
      "                                                                 \n",
      " conv2d_3 (Conv2D)           (None, 8, 8, 30)          8130      \n",
      "                                                                 \n",
      " max_pooling2d_1 (MaxPoolin  (None, 4, 4, 30)          0         \n",
      " g2D)                                                            \n",
      "                                                                 \n",
      " dropout (Dropout)           (None, 4, 4, 30)          0         \n",
      "                                                                 \n",
      " flatten (Flatten)           (None, 480)               0         \n",
      "                                                                 \n",
      " dense (Dense)               (None, 500)               240500    \n",
      "                                                                 \n",
      " dropout_1 (Dropout)         (None, 500)               0         \n",
      "                                                                 \n",
      " dense_1 (Dense)             (None, 43)                21543     \n",
      "                                                                 \n",
      "=================================================================\n",
      "Total params: 378023 (1.44 MB)\n",
      "Trainable params: 378023 (1.44 MB)\n",
      "Non-trainable params: 0 (0.00 Byte)\n",
      "_________________________________________________________________\n",
      "None\n"
     ]
    },
    {
     "name": "stderr",
     "output_type": "stream",
     "text": [
      "C:\\Users\\dell\\AppData\\Local\\Temp\\ipykernel_3056\\2422212154.py:21: UserWarning: `Model.fit_generator` is deprecated and will be removed in a future version. Please use `Model.fit`, which supports generators.\n",
      "  history=model.fit_generator(dataGen.flow(X_train,y_train,batch_size=batch_size_val),steps_per_epoch=len(X_train)//32,epochs=epochs_val,validation_data=(X_validation,y_validation),shuffle=1)\n"
     ]
    },
    {
     "name": "stdout",
     "output_type": "stream",
     "text": [
      "Epoch 1/10\n",
      "WARNING:tensorflow:From C:\\Users\\dell\\anaconda3\\Lib\\site-packages\\keras\\src\\utils\\tf_utils.py:492: The name tf.ragged.RaggedTensorValue is deprecated. Please use tf.compat.v1.ragged.RaggedTensorValue instead.\n",
      "\n"
     ]
    },
    {
     "name": "stderr",
     "output_type": "stream",
     "text": [
      "WARNING:tensorflow:From C:\\Users\\dell\\anaconda3\\Lib\\site-packages\\keras\\src\\utils\\tf_utils.py:492: The name tf.ragged.RaggedTensorValue is deprecated. Please use tf.compat.v1.ragged.RaggedTensorValue instead.\n",
      "\n"
     ]
    },
    {
     "name": "stdout",
     "output_type": "stream",
     "text": [
      "WARNING:tensorflow:From C:\\Users\\dell\\anaconda3\\Lib\\site-packages\\keras\\src\\engine\\base_layer_utils.py:384: The name tf.executing_eagerly_outside_functions is deprecated. Please use tf.compat.v1.executing_eagerly_outside_functions instead.\n",
      "\n"
     ]
    },
    {
     "name": "stderr",
     "output_type": "stream",
     "text": [
      "WARNING:tensorflow:From C:\\Users\\dell\\anaconda3\\Lib\\site-packages\\keras\\src\\engine\\base_layer_utils.py:384: The name tf.executing_eagerly_outside_functions is deprecated. Please use tf.compat.v1.executing_eagerly_outside_functions instead.\n",
      "\n"
     ]
    },
    {
     "name": "stdout",
     "output_type": "stream",
     "text": [
      "695/695 [==============================] - 115s 159ms/step - loss: 2.4389 - accuracy: 0.3127 - val_loss: 0.7443 - val_accuracy: 0.7922\n",
      "Epoch 2/10\n",
      "695/695 [==============================] - 110s 158ms/step - loss: 1.1767 - accuracy: 0.6418 - val_loss: 0.3072 - val_accuracy: 0.9291\n",
      "Epoch 3/10\n",
      "695/695 [==============================] - 110s 158ms/step - loss: 0.8048 - accuracy: 0.7559 - val_loss: 0.1991 - val_accuracy: 0.9429\n",
      "Epoch 4/10\n",
      "695/695 [==============================] - 110s 158ms/step - loss: 0.6205 - accuracy: 0.8099 - val_loss: 0.1508 - val_accuracy: 0.9655\n",
      "Epoch 5/10\n",
      "695/695 [==============================] - 111s 160ms/step - loss: 0.5208 - accuracy: 0.8361 - val_loss: 0.0974 - val_accuracy: 0.9732\n",
      "Epoch 6/10\n",
      "695/695 [==============================] - 110s 158ms/step - loss: 0.4480 - accuracy: 0.8602 - val_loss: 0.0809 - val_accuracy: 0.9786\n",
      "Epoch 7/10\n",
      "695/695 [==============================] - 111s 159ms/step - loss: 0.3890 - accuracy: 0.8793 - val_loss: 0.0761 - val_accuracy: 0.9783\n",
      "Epoch 8/10\n",
      "695/695 [==============================] - 110s 158ms/step - loss: 0.3421 - accuracy: 0.8919 - val_loss: 0.0665 - val_accuracy: 0.9783\n",
      "Epoch 9/10\n",
      "695/695 [==============================] - 110s 159ms/step - loss: 0.3326 - accuracy: 0.8958 - val_loss: 0.0465 - val_accuracy: 0.9901\n",
      "Epoch 10/10\n",
      "695/695 [==============================] - 111s 159ms/step - loss: 0.3062 - accuracy: 0.9027 - val_loss: 0.0343 - val_accuracy: 0.9910\n"
     ]
    },
    {
     "data": {
      "image/png": "[encoded data removed]",
      "text/plain": [
       "<Figure size 640x480 with 1 Axes>"
      ]
     },
     "metadata": {},
     "output_type": "display_data"
    },
    {
     "data": {
      "image/png": "[encoded data removed]",
      "text/plain": [
       "<Figure size 640x480 with 1 Axes>"
      ]
     },
     "metadata": {},
     "output_type": "display_data"
    },
    {
     "name": "stdout",
     "output_type": "stream",
     "text": [
      "Test Score: 0.034609220921993256\n",
      "Test Accuracy: 0.990517258644104\n"
     ]
    },
    {
     "name": "stderr",
     "output_type": "stream",
     "text": [
      "C:\\Users\\dell\\anaconda3\\Lib\\site-packages\\keras\\src\\engine\\training.py:3103: UserWarning: You are saving your model as an HDF5 file via `model.save()`. This file format is considered legacy. We recommend using instead the native Keras format, e.g. `model.save('my_model.keras')`.\n",
      "  saving_api.save_model(\n"
     ]
    }
   ],
   "source": [
    "def myModel():\n",
    "    model= Sequential()                #Creates a new Sequential model which is a linear stack of layers.\n",
    "    model.add((Conv2D(60,(5,5),input_shape=(imageDimesions[0],imageDimesions[1],1),activation='relu')))  # ADDING MORE CONVOLUTION LAYERS = LESS FEATURES BUT CAN CAUSE ACCURACY TO INCREASE\n",
    "    model.add((Conv2D(60, (5,5), activation='relu')))         #Adds another 2D convolutional layer with 60 filters, each of size 5x5.\n",
    "    model.add(MaxPooling2D(pool_size=(2,2)))                 #Adds a max-pooling layer with a 2x2 pool size. Max-pooling reduces the spatial dimensions of the input.\n",
    " \n",
    "    model.add((Conv2D(30, (3,3),activation='relu')))        #Adds another 2D convolutional layer with 30 filters, each of size 3x3.\n",
    "    model.add((Conv2D(30, (3,3), activation='relu')))\n",
    "    model.add(MaxPooling2D(pool_size=(2,2)))              #Adds another max-pooling layer with a 2x2 pool size.\n",
    "    model.add(Dropout(0.5))             #Adds a dropout layer with a dropout rate of 0.5, which helps prevent overfitting by randomly setting a fraction of input units to zero during training.\n",
    " \n",
    "    model.add(Flatten())          #Adds a flattening layer to flatten the input before passing it to the dense layers.\n",
    "    model.add(Dense(500,activation='relu'))   #Adds a fully connected dense layer with 500 neurons.\n",
    "    model.add(Dropout(0.5))            #Adds another dropout layer with a dropout rate of 0.5.\n",
    "    model.add(Dense(noOfClasses,activation='softmax')) \n",
    "    model.compile(Adam(lr=0.001),loss='categorical_crossentropy',metrics=['accuracy'])\n",
    "    return model\n",
    " \n",
    "model = myModel()\n",
    "print(model.summary())\n",
    "history=model.fit_generator(dataGen.flow(X_train,y_train,batch_size=batch_size_val),steps_per_epoch=len(X_train)//32,epochs=epochs_val,validation_data=(X_validation,y_validation),shuffle=1)\n",
    " \n",
    "plt.figure(1)\n",
    "plt.plot(history.history['loss'])\n",
    "plt.plot(history.history['val_loss'])\n",
    "plt.legend(['training','validation'])\n",
    "plt.title('loss')\n",
    "plt.xlabel('epoch')\n",
    "plt.figure(2)\n",
    "plt.plot(history.history['accuracy'])\n",
    "plt.plot(history.history['val_accuracy'])\n",
    "plt.legend(['training','validation'])\n",
    "plt.title('Acurracy')\n",
    "plt.xlabel('epoch')\n",
    "plt.show()\n",
    "score =model.evaluate(X_test,y_test,verbose=0)\n",
    "print('Test Score:',score[0])\n",
    "print('Test Accuracy:',score[1])\n",
    " \n",
    "model.save(\"model.h5\")"
   ]
  },
  {
   "cell_type": "code",
   "execution_count": null,
   "id": "940be7b2",
   "metadata": {},
   "outputs": [],
   "source": []
  }
 ],
 "metadata": {
  "kernelspec": {
   "display_name": "Python 3 (ipykernel)",
   "language": "python",
   "name": "python3"
  },
  "language_info": {
   "codemirror_mode": {
    "name": "ipython",
    "version": 3
   },
   "file_extension": ".py",
   "mimetype": "text/x-python",
   "name": "python",
   "nbconvert_exporter": "python",
   "pygments_lexer": "ipython3",
   "version": "3.11.5"
  }
 },
 "nbformat": 4,
 "nbformat_minor": 5
}
